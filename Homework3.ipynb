{
  "nbformat": 4,
  "nbformat_minor": 0,
  "metadata": {
    "colab": {
      "name": "Homework3.ipynb",
      "provenance": [],
      "toc_visible": true,
      "authorship_tag": "ABX9TyMO78fVruiUCfJ9tt9+Mfb0",
      "include_colab_link": true
    },
    "kernelspec": {
      "name": "python3",
      "display_name": "Python 3"
    },
    "language_info": {
      "name": "python"
    },
    "accelerator": "GPU"
  },
  "cells": [
    {
      "cell_type": "markdown",
      "metadata": {
        "id": "view-in-github",
        "colab_type": "text"
      },
      "source": [
        "<a href=\"https://colab.research.google.com/github/kvelez-iastate/S2021_ME592/blob/Homework3/Homework3.ipynb\" target=\"_parent\"><img src=\"https://colab.research.google.com/assets/colab-badge.svg\" alt=\"Open In Colab\"/></a>"
      ]
    },
    {
      "cell_type": "markdown",
      "metadata": {
        "id": "7Kxj18n3hQ2E"
      },
      "source": [
        "# Homework 3\n",
        "\n",
        "April 9th, 2021\n",
        "\n",
        "Kimberly Velez\n",
        "\n",
        "Kyle Swanton\n",
        "\n",
        "**Motivation**\n",
        "\n",
        "This homework is to provide an experience of deep learning using simple networks applied to datasets relevant to each theme group.\n",
        "\n",
        "**Expected Outcome**\n",
        "1. A code pushed in git(bitbucket).\n",
        "2. A presentation video explaining the problem and results (duration must not be more\n",
        "than 10 mins); we will present this video for some groups in class."
      ]
    },
    {
      "cell_type": "markdown",
      "metadata": {
        "id": "5Utz2HkSkjiv"
      },
      "source": [
        "**Design and Manufacturing**\n",
        "\n",
        "Flow stress prediction at different strain, strain-rate, and temperatures is required for\n",
        "warm forming of sheet metals. In simulations, this \n",
        "ow stress is very important for\n",
        "accurate simulations. Specifically for materials like Austenitic Stainless Steel which shows\n",
        "a Dynamic Strain Ageing phenomenon at moderately high temperatures. In this regime,\n",
        "the behavior of materials is wavy and cannot be understood well with current physical\n",
        "models and phenomenological models. So, in this homework we would be trying to\n",
        "accurately predict \n",
        "ow stress based on deep learning models you have learnt till now.\n",
        "You will build a Long Short Term Memory (LSTM) network for this assignment."
      ]
    },
    {
      "cell_type": "code",
      "metadata": {
        "colab": {
          "base_uri": "https://localhost:8080/"
        },
        "id": "PlvtaA8V86g8",
        "outputId": "20f622f6-eac4-4037-993c-8289b6bd56b7"
      },
      "source": [
        "import os, sys\n",
        "from google.colab import drive\n",
        "drive.mount('/content/mnt')\n",
        "nb_path = '/content/notebooks'\n",
        "os.symlink('/content/mnt/My Drive/Colab Notebooks/ME592/ME592_HW3', nb_path)\n",
        "sys.path.insert(0, nb_path)"
      ],
      "execution_count": 1,
      "outputs": [
        {
          "output_type": "stream",
          "text": [
            "Mounted at /content/mnt\n"
          ],
          "name": "stdout"
        }
      ]
    },
    {
      "cell_type": "code",
      "metadata": {
        "id": "7s0EC18-9SvK"
      },
      "source": [
        "import sys\n",
        "import numpy as np\n",
        "import os\n",
        "import matplotlib.pyplot as plt\n",
        "from matplotlib import cm\n",
        "import pandas as pd\n",
        "\n",
        "import torch\n",
        "import torch.nn as nn\n",
        "import torch.nn.functional as F\n",
        "import torch.optim as optim\n",
        "from torch.autograd import Variable\n",
        "\n",
        "\n",
        "import re\n",
        "from sklearn.preprocessing import PolynomialFeatures\n",
        "from sklearn import preprocessing\n",
        "import matplotlib.pyplot as plt\n",
        "from sklearn.model_selection import KFold\n",
        "from torch.nn import LSTM\n"
      ],
      "execution_count": 2,
      "outputs": []
    },
    {
      "cell_type": "markdown",
      "metadata": {
        "id": "_msXgHf8o9wQ"
      },
      "source": [
        "## Define Functions"
      ]
    },
    {
      "cell_type": "code",
      "metadata": {
        "id": "x0_iSsoS9U6G"
      },
      "source": [
        "#%% helper functions\n",
        "\n",
        "def generate_X_and_Y(data, poly_degree):\n",
        "    # split data into features (X) and target variable (Y)\n",
        "    X = data[['plastic_strain','temperature','strain_rate']]\n",
        "    Y = data['true_stress']\n",
        "    \n",
        "    # normalize the features (X)\n",
        "    X = X.values\n",
        "    min_max_scaler = preprocessing.MinMaxScaler()\n",
        "    X_scaled = min_max_scaler.fit_transform(X)\n",
        "    X = pd.DataFrame(X_scaled)\n",
        "    \n",
        "    # generate polynomial features\n",
        "    poly = PolynomialFeatures(degree = poly_degree)\n",
        "    X = poly.fit_transform(X)\n",
        "    \n",
        "    # cast the training data as tensors\n",
        "    X = torch.tensor(X).float()\n",
        "    Y = torch.tensor(Y.values).float()\n",
        "    return X, Y\n",
        "\n",
        "def read_sort_input(file):\n",
        "    # import the data from file name\n",
        "    data = pd.read_excel(file, keep_default_na=False)\n",
        "    # remove empty columns\n",
        "    data = data.loc[:, ~data.columns.str.contains('^Unnamed')]\n",
        "    # grab the file name only to pull metadata\n",
        "    filename = file.split('\\\\')[-1]\n",
        "    \n",
        "    # if plastic strain is available, use it; otherwise use true strain\n",
        "    if len(data.columns) == 8:        \n",
        "        stress_strain = data.iloc[:,6:8]\n",
        "        stress_strain.columns = ['strain', 'stress']\n",
        "    else:\n",
        "        stress_strain = data.iloc[:,4:6]\n",
        "        stress_strain.columns = ['strain', 'stress']\n",
        "        print(filename)\n",
        "    \n",
        "    # remove the data points where both plastic strain and true stress are zero\n",
        "    index_names = stress_strain[ (stress_strain['strain'] < 0.01) | (stress_strain['stress'] < 20) ].index\n",
        "    stress_strain.drop(index_names, inplace=True)\n",
        "    \n",
        "    stress_strain_np = stress_strain.to_numpy()\n",
        "    stress_strain = pd.DataFrame({'strain':stress_strain_np[:,0],'stress':stress_strain_np[:,1]})\n",
        "        \n",
        "    # pulling apart the filename, which has metadata\n",
        "    filename_split = filename.split('.')\n",
        "    # pulling out the temperature as only a number\n",
        "    temp = \"\".join(filter(str.isdigit, filename_split[0][0:-1]))\n",
        "    #combining metadata of temperature and strainrate from file name\n",
        "    tempstrain = pd.DataFrame({'temperature': temp,'strainrate': filename_split[1]},index=list(range(len(stress_strain.iloc[1:,0])+1)))\n",
        "    \n",
        "    # combining strain, stress, temperature, and strainrate\n",
        "    combined = pd.concat([stress_strain['strain'],tempstrain,stress_strain['stress']], axis=1)\n",
        "    combined_tensor = torch.tensor(combined.to_numpy(dtype=float)) \n",
        "    \n",
        "    # this next part of the function rearranges the strain data for the LSTM section\n",
        "    strain = combined['strain'].to_numpy()\n",
        "    \n",
        "    # number of strain columns that we want \n",
        "    numCol = 5\n",
        "    \n",
        "    # start the strain array so that we can append later\n",
        "    strain_rearrange = np.zeros((1,numCol))\n",
        "    \n",
        "    # rearrange the strain so that each row is numCol number of strain values\n",
        "    # each column iterates one strain value\n",
        "    for i in range(0,len(strain)-numCol-1):\n",
        "        row = np.array(strain[i:i+numCol])\n",
        "        strain_rearrange = np.vstack((strain_rearrange,row))\n",
        "        \n",
        "    strain_rearrange_df = pd.DataFrame(strain_rearrange[1:,:])  \n",
        "    stress_rearrange = combined['stress'][numCol:]\n",
        "    stress_rearrange.reset_index(drop=True, inplace=True)\n",
        "    \n",
        "    tempstrain = pd.DataFrame({'temperature': temp,'strainrate': filename_split[1]},index=list(range(len(strain_rearrange)-1)))\n",
        "    combined_strain = pd.concat([strain_rearrange_df,tempstrain,stress_rearrange], axis=1)\n",
        "    combined_strain_tensor = torch.tensor(combined_strain.to_numpy(dtype=float))  \n",
        "    \n",
        "    return combined, combined_tensor, combined_strain, combined_strain_tensor\n",
        "\n",
        "def list_folder_contents(path):\n",
        "    \n",
        "    # initialize an empty list\n",
        "    entries = []\n",
        "    \n",
        "    # loop through the folder to retieve its contents\n",
        "    for entry in os.listdir(path):\n",
        "        entries.append(entry)\n",
        "        \n",
        "    # return the folder contents\n",
        "    return entries\n",
        "\n",
        "def list_to_tensor(listdata):\n",
        "    tensordata = listdata[0]\n",
        "    for i in range(len(listdata)-1):\n",
        "        tensordata = torch.cat((tensordata, listdata[i+1]))\n",
        "        \n",
        "    return tensordata"
      ],
      "execution_count": 3,
      "outputs": []
    },
    {
      "cell_type": "markdown",
      "metadata": {
        "id": "FSxiyEcZpBnJ"
      },
      "source": [
        "Set global inputs"
      ]
    },
    {
      "cell_type": "code",
      "metadata": {
        "id": "1G9PPsYoo5VK"
      },
      "source": [
        "# inputs\n",
        "path = r'/content/mnt/My Drive/Colab Notebooks/ME592/ME592_HW3/DM'\n",
        "plastic_strain_tol = 0.01\n",
        "true_stress_tol = 2\n",
        "column_names = ['plastic_strain', 'true_stress']\n",
        "test_temperatures = [150, 550]\n",
        "\n",
        "\n",
        "# neural network parameters\n",
        "hidden_dim_1 = 10\n",
        "hidden_dim_2 = 10\n",
        "poly_degree = 6\n",
        "hidden_dim = 3\n",
        "learning_rate = 3E-4\n",
        "n_folds = 5\n",
        "poly_degree = 2"
      ],
      "execution_count": 4,
      "outputs": []
    },
    {
      "cell_type": "markdown",
      "metadata": {
        "id": "qA4lFJdgpPGT"
      },
      "source": [
        "## Naive Learning | Data Loading and Pre-Processing\n",
        "\n",
        "**Data Loading:** \n",
        "\n",
        "Load the data provided in the Excel Sheets. Di\u000berent Excel sheets\n",
        "represent the behavior of the material at different strain rates and temperatures.\n",
        "Each Excel sheet contains the data about the variation of stress with strain. You\n",
        "may use, just the true stress vs. plastic strain data for the analysis. (You might\n",
        "have to preprocess the points by removing some points with zero stress and zero\n",
        "strain).\n",
        "\n",
        "**Data preprocessing:** \n",
        "\n",
        "Preprocess the data and create a list of strain, strain-rate,\n",
        "temperature and stress."
      ]
    },
    {
      "cell_type": "code",
      "metadata": {
        "colab": {
          "base_uri": "https://localhost:8080/"
        },
        "id": "z0IUzfXP9fmM",
        "outputId": "6b073dbf-1dae-428f-9192-f8d9a0edbef1"
      },
      "source": [
        "#%% read in the data\n",
        "\n",
        "# loop through sub-directories and make a list of the paths to all data files\n",
        "file_paths = []\n",
        "for root, dirs, files in os.walk(path, topdown = True):\n",
        "   for name in files:\n",
        "      file_paths.append(os.path.join(root, name))\n",
        "\n",
        "# initialize an empty dataframe that the raw data can be put into\n",
        "all_data = pd.DataFrame()\n",
        "\n",
        "# read each file and append it's data to 'all_data'\n",
        "for index, file_path in enumerate(file_paths):\n",
        "    \n",
        "    # read a single file. \n",
        "    # assume that plastic strain data is always in column J\n",
        "    # assume that true stress data is always in column K\n",
        "    a = pd.read_excel(file_path, usecols='J:K')\n",
        "    \n",
        "    # inconsitent naming convention in the data files. rename for consistancy \n",
        "    a.set_axis(column_names, axis=1, inplace=True)\n",
        "    \n",
        "    # drop rows where either plastic strain or true stress are close to zero\n",
        "    index_names = a[(a['plastic_strain']<plastic_strain_tol) & (a['true_stress']<plastic_strain_tol)].index\n",
        "    a.drop(index_names, inplace=True)\n",
        "    \n",
        "    # read the file name\n",
        "    filename = os.path.basename(file_path)\n",
        "    \n",
        "    # split the filename by delimiters. Extract the temperature and strain rate\n",
        "    filename_split = re.split('-|_|.xls', filename)\n",
        "    temperature = float(filename_split[0])\n",
        "    strain_rate = float(filename_split[1])\n",
        "    \n",
        "    # add temperature and strain rate columns to the dataframe\n",
        "    a['temperature'] = temperature\n",
        "    a['strain_rate'] = strain_rate\n",
        "    all_data = pd.concat([all_data,a])\n",
        "    \n",
        "    # print a status update\n",
        "    print('read file ', index+1, ' of ', len(file_paths))\n",
        "  "
      ],
      "execution_count": 5,
      "outputs": [
        {
          "output_type": "stream",
          "text": [
            "read file  1  of  43\n",
            "read file  2  of  43\n",
            "read file  3  of  43\n",
            "read file  4  of  43\n",
            "read file  5  of  43\n",
            "read file  6  of  43\n",
            "read file  7  of  43\n",
            "read file  8  of  43\n",
            "read file  9  of  43\n",
            "read file  10  of  43\n",
            "read file  11  of  43\n",
            "read file  12  of  43\n",
            "read file  13  of  43\n",
            "read file  14  of  43\n",
            "read file  15  of  43\n",
            "read file  16  of  43\n",
            "read file  17  of  43\n",
            "read file  18  of  43\n",
            "read file  19  of  43\n",
            "read file  20  of  43\n",
            "read file  21  of  43\n",
            "read file  22  of  43\n",
            "read file  23  of  43\n",
            "read file  24  of  43\n",
            "read file  25  of  43\n",
            "read file  26  of  43\n",
            "read file  27  of  43\n",
            "read file  28  of  43\n",
            "read file  29  of  43\n",
            "read file  30  of  43\n",
            "read file  31  of  43\n",
            "read file  32  of  43\n",
            "read file  33  of  43\n",
            "read file  34  of  43\n",
            "read file  35  of  43\n",
            "read file  36  of  43\n",
            "read file  37  of  43\n",
            "read file  38  of  43\n",
            "read file  39  of  43\n",
            "read file  40  of  43\n",
            "read file  41  of  43\n",
            "read file  42  of  43\n",
            "read file  43  of  43\n"
          ],
          "name": "stdout"
        }
      ]
    },
    {
      "cell_type": "markdown",
      "metadata": {
        "id": "SL4E2HJhpqQx"
      },
      "source": [
        "## Naive Learning | Data Split\n",
        "\n",
        "**Data split:** \n",
        "\n",
        "Split the data pertaining into three parts (training, validation and\n",
        "testing). Two temperatures can be selected as test data. Choose a strategy to\n",
        "divide the data for training and validation (a typical strategy is to split the data\n",
        "into 60% training and 40% testing, or 80-20). Justify the strategy you select. Also,\n",
        "use k-fold cross validation strategy for training."
      ]
    },
    {
      "cell_type": "code",
      "metadata": {
        "id": "-s7FwVQG9vyR"
      },
      "source": [
        "# split 'all_data' into train and test\n",
        "# choose 2 temperatures as test data as per the project requirements\n",
        "all_data_train = all_data.loc[~all_data['temperature'].isin(test_temperatures)]\n",
        "all_data_test = all_data.loc[all_data['temperature'].isin(test_temperatures)]\n",
        "\n",
        "#%% develop a model with k-fold\n",
        "\n",
        "\n",
        "# define the k-fold\n",
        "k_fold = KFold(n_splits = n_folds, shuffle=True, random_state=1)"
      ],
      "execution_count": 6,
      "outputs": []
    },
    {
      "cell_type": "markdown",
      "metadata": {
        "id": "BElhRhdBp0b2"
      },
      "source": [
        "## Naive Learning | Neural Network\n",
        "\n",
        "**Naive Learning:** \n",
        "\n",
        "Considering the strain, strain rate and temperature at every\n",
        "point, you need to predict the \n",
        "ow stress. This can be done by a naive neural\n",
        "network(fully connected deep neural network, no convolutions)."
      ]
    },
    {
      "cell_type": "code",
      "metadata": {
        "id": "Wtb-KVINp93Z"
      },
      "source": [
        "  # create the model, define the loss function, and optimizer\n",
        "  model = torch.nn.Sequential(torch.nn.Linear(10,20),torch.nn.ReLU(),torch.nn.Linear(20,1),torch.nn.Flatten(0,1))\n",
        "  model = model.cuda()\n",
        "  criterion = torch.nn.MSELoss()\n",
        "  optimizer = torch.optim.SGD(model.parameters(), lr=learning_rate)"
      ],
      "execution_count": 7,
      "outputs": []
    },
    {
      "cell_type": "code",
      "metadata": {
        "colab": {
          "base_uri": "https://localhost:8080/"
        },
        "id": "J3Pf3VyF-m6h",
        "outputId": "7b0c1f33-dea9-4939-f76c-48ef50479cff"
      },
      "source": [
        "# loop through each fold\n",
        "for train_index, validate_index in k_fold.split(all_data_train):\n",
        "    \n",
        "    # grab the data given the indicies\n",
        "    all_fold_data_train = all_data_train.iloc[train_index]\n",
        "    all_fold_data_validate = all_data_train.iloc[validate_index]\n",
        "    \n",
        "    # generate X and Y tensors for the training and validating\n",
        "    X_train, Y_train = generate_X_and_Y(all_fold_data_train, poly_degree)\n",
        "    X_validate, Y_validate = generate_X_and_Y(all_fold_data_validate, poly_degree)\n",
        "    X_train = X_train.cuda()\n",
        "    Y_train = Y_train.cuda()\n",
        "    X_validate = X_validate.cuda()\n",
        "    Y_validate = Y_validate.cuda()\n",
        "    \n",
        "    # train the model\n",
        "    for t in range(len(X_train)):\n",
        "        \n",
        "        # forward pass\n",
        "        Y_train_pred = model(X_train)\n",
        "    \n",
        "        # compute loss and print\n",
        "        loss = criterion(Y_train_pred, Y_train)\n",
        "        if t % 10000 == 99:\n",
        "            print(t, loss.item()/len(X_train))\n",
        "        \n",
        "        # zero gradients, backwards pass, and update weights\n",
        "        optimizer.zero_grad()\n",
        "        loss.backward()\n",
        "        optimizer.step()\n",
        "        \n",
        "    # validate the model\n",
        "    Y_validate_predict = model(X_validate)\n",
        "    validate_loss = criterion(Y_validate_predict, Y_validate)\n",
        "    \n",
        "    # print the results:\n",
        "    print('---------------')\n",
        "    print('fold error: ', validate_loss.item()/len(X_validate))\n",
        "    print('---------------')\n"
      ],
      "execution_count": 8,
      "outputs": [
        {
          "output_type": "stream",
          "text": [
            "99 0.17270221838004698\n",
            "10099 0.07685833810089339\n",
            "20099 0.07264015496438614\n",
            "30099 0.06609952667350398\n",
            "40099 0.06142186315644058\n",
            "50099 0.059702591949417336\n",
            "60099 0.05953232948167521\n",
            "70099 0.05943145580670733\n",
            "80099 0.05929587078369285\n",
            "---------------\n",
            "fold error:  0.22658903407644418\n",
            "---------------\n",
            "99 0.05893877842635078\n",
            "10099 0.05890647421394929\n",
            "20099 0.05866774399359761\n",
            "30099 0.058223350589971995\n",
            "40099 0.05767230864605152\n",
            "50099 0.057061512102490365\n",
            "60099 0.056534507611701944\n",
            "70099 0.0559817196468558\n",
            "80099 0.055628108030258756\n",
            "---------------\n",
            "fold error:  0.2181161881552606\n",
            "---------------\n",
            "99 0.05526142569310239\n",
            "10099 0.054507752333606246\n",
            "20099 0.05405015888267526\n",
            "30099 0.0501605439186648\n",
            "40099 0.04901938836046532\n",
            "50099 0.04752467048163492\n",
            "60099 0.04869817508230727\n",
            "70099 0.054187991230804616\n",
            "80099 0.05379434434994619\n",
            "---------------\n",
            "fold error:  0.2136733260788432\n",
            "---------------\n",
            "99 0.045864300078148505\n",
            "10099 0.052271210168129585\n",
            "20099 0.04899094380504027\n",
            "30099 0.051296167649339225\n",
            "40099 0.05076807871301236\n",
            "50099 0.05046910010422212\n",
            "60099 0.050286758863942765\n",
            "70099 0.05006437826733805\n",
            "80099 0.049783741141843335\n",
            "---------------\n",
            "fold error:  0.20548600924929408\n",
            "---------------\n",
            "99 0.049562614953523154\n",
            "10099 0.049134358835084595\n",
            "20099 0.04892847201227521\n",
            "30099 0.04870054263668214\n",
            "40099 0.04848803909269621\n",
            "50099 0.048306505872167706\n",
            "60099 0.04811223645220971\n",
            "70099 0.04795327693031511\n",
            "80099 0.0477861129001811\n",
            "---------------\n",
            "fold error:  0.2011872898873999\n",
            "---------------\n"
          ],
          "name": "stdout"
        }
      ]
    },
    {
      "cell_type": "markdown",
      "metadata": {
        "id": "QDNzs3LVqDkq"
      },
      "source": [
        "## Naive Learning | Testing and Deployment\n",
        "\n",
        "**Deployment:** \n",
        "\n",
        "The true stress and true strain results are obtained for a sheet metal.\n",
        "Tensile testing is performed on a small rectangular strip, 6cm in length and the jaws\n",
        "holding one end of the specimen and the other side is pulled by a displacement of\n",
        "x. For all the experiments in the data, displacement is such a way that the strain\n",
        "rate is constant through out the process. However, in forming strain rate varies\n",
        "non-linearly. Example: your displacement could be represented as x = t^3 - 2t^2 + t.\n",
        "Then, predict the stress-strain curve for this profile of displacements. (Hint: you\n",
        "need to use the Hooke's law and related components to convert the x to strains and\n",
        "strain rates and then eventually computing the stress strain curve for same).\n",
        "\n",
        "**Presenting results:** \n",
        "\n",
        "Compare the results you obtain for training, validation and\n",
        "testing data on the naive learning model and the LSTM. Visualize the stress-strain\n",
        "curves of the predicted (both) and the actual. Also, visualize the stress-strain curve\n",
        "for the deployment for both the learning cases.\n"
      ]
    },
    {
      "cell_type": "code",
      "metadata": {
        "id": "Vbg6-y2BBOHZ"
      },
      "source": [
        "#%% test the model\n",
        "\n",
        "path_150 = r'/content/mnt/My Drive/Colab Notebooks/ME592/ME592_HW3/DM/150C'\n",
        "path_550 = r'/content/mnt/My Drive/Colab Notebooks/ME592/ME592_HW3/DM/550C'\n",
        "\n",
        "# loop through sub-directories and make a list of the paths to all data files\n",
        "file_paths_150 = []\n",
        "for root, dirs, files in os.walk(path_150, topdown = True):\n",
        "   for name in files:\n",
        "      file_paths_150.append(os.path.join(root, name))\n",
        "\n",
        "# initialize an empty dataframe that the raw data can be put into\n",
        "data_150 = []\n",
        "filename_150 = []\n",
        "\n",
        "# read each file and append it's data to 'all_data'\n",
        "for index, file_path in enumerate(file_paths_150):\n",
        "    \n",
        "    # read a single file. \n",
        "    # assume that plastic strain data is always in column J\n",
        "    # assume that true stress data is always in column K\n",
        "    a = pd.read_excel(file_path, usecols='J:K')\n",
        "    \n",
        "    # inconsitent naming convention in the data files. rename for consistancy \n",
        "    a.set_axis(column_names, axis=1, inplace=True)\n",
        "    \n",
        "    # drop rows where either plastic strain or true stress are close to zero\n",
        "    index_names = a[(a['plastic_strain']<plastic_strain_tol) & (a['true_stress']<plastic_strain_tol)].index\n",
        "    a.drop(index_names, inplace=True)\n",
        "    \n",
        "    # read the file name\n",
        "    filename = os.path.basename(file_path)\n",
        "    \n",
        "    # split the filename by delimiters. Extract the temperature and strain rate\n",
        "    filename_split = re.split('-|_|.xls', filename)\n",
        "    temperature = float(filename_split[0])\n",
        "    strain_rate = float(filename_split[1])\n",
        "    \n",
        "    # add temperature and strain rate columns to the dataframe\n",
        "    a['temperature'] = temperature\n",
        "    a['strain_rate'] = strain_rate\n",
        "    data_150.append(a)\n",
        "    filename_150.append(filename)\n",
        "\n",
        "\n",
        "file_paths_550 = []\n",
        "for root, dirs, files in os.walk(path_550, topdown = True):\n",
        "   for name in files:\n",
        "      file_paths_550.append(os.path.join(root, name))\n",
        "      \n",
        "# initialize an empty dataframe that the raw data can be put into\n",
        "data_550 = []\n",
        "filename_550 = []\n",
        "\n",
        "# read each file and append it's data to 'all_data'\n",
        "for index, file_path in enumerate(file_paths_550):\n",
        "    \n",
        "    # read a single file. \n",
        "    # assume that plastic strain data is always in column J\n",
        "    # assume that true stress data is always in column K\n",
        "    a = pd.read_excel(file_path, usecols='J:K')\n",
        "    \n",
        "    # inconsitent naming convention in the data files. rename for consistancy \n",
        "    a.set_axis(column_names, axis=1, inplace=True)\n",
        "    \n",
        "    # drop rows where either plastic strain or true stress are close to zero\n",
        "    index_names = a[(a['plastic_strain']<plastic_strain_tol) & (a['true_stress']<plastic_strain_tol)].index\n",
        "    a.drop(index_names, inplace=True)\n",
        "    \n",
        "    # read the file name\n",
        "    filename = os.path.basename(file_path)\n",
        "    \n",
        "    # split the filename by delimiters. Extract the temperature and strain rate\n",
        "    filename_split = re.split('-|_|.xls', filename)\n",
        "    temperature = float(filename_split[0])\n",
        "    strain_rate = float(filename_split[1])\n",
        "    \n",
        "    # add temperature and strain rate columns to the dataframe\n",
        "    a['temperature'] = temperature\n",
        "    a['strain_rate'] = strain_rate\n",
        "    data_550.append(a)\n",
        "    filename_550.append(filename)"
      ],
      "execution_count": 9,
      "outputs": []
    },
    {
      "cell_type": "code",
      "metadata": {
        "colab": {
          "base_uri": "https://localhost:8080/",
          "height": 1000
        },
        "id": "tU3thupx8o26",
        "outputId": "a78bb4f9-bb48-43b8-9e75-5474f3ba9022"
      },
      "source": [
        "#%% \n",
        "\n",
        "Y_pred_150 = []\n",
        "\n",
        "for i in range(len(data_150)):\n",
        "    X_test, Y_test = generate_X_and_Y(data_150[i], poly_degree)\n",
        "    X_test = X_test.cuda()\n",
        "    Y_test_pred = model(X_test)\n",
        "    Y_test_pred = Y_test_pred.cpu()\n",
        "    \n",
        "    filename_split = re.split('-|_|.xls', filename_150[i])\n",
        "    temperature = float(filename_split[0])\n",
        "    strain_rate = float(filename_split[1])    \n",
        "    title = 'Test Files at Temperature of {}, Strain Rate {}'.format(temperature,strain_rate)\n",
        "    \n",
        "    plt.figure()\n",
        "    plt.plot(data_150[i]['plastic_strain'].to_numpy(),Y_test.detach().numpy(), color='r')\n",
        "    plt.plot(data_150[i]['plastic_strain'].to_numpy(),Y_test_pred.detach().numpy(), color='b')    \n",
        "    plt.title(title)\n",
        "    plt.xlabel('strain')\n",
        "    plt.ylabel('stress')\n",
        "    plt.legend(['test values','predicted values'])\n",
        "    Y_pred_150.append(Y_test_pred)\n",
        "  \n",
        "for i in range(len(data_550)):\n",
        "    X_test, Y_test = generate_X_and_Y(data_550[i], poly_degree)\n",
        "    X_test = X_test.cuda()\n",
        "    Y_test_pred = model(X_test)\n",
        "    Y_test_pred = Y_test_pred.cpu()\n",
        "    \n",
        "    filename_split = re.split('-|_|.xls', filename_550[i])\n",
        "    temperature = float(filename_split[0])\n",
        "    strain_rate = float(filename_split[1])    \n",
        "    title = 'Test Files at Temperature of {}, Strain Rate {}'.format(temperature,strain_rate)\n",
        "    \n",
        "    plt.figure()\n",
        "    plt.plot(data_550[i]['plastic_strain'].to_numpy(),Y_test.detach().numpy(), color='r')\n",
        "    plt.plot(data_550[i]['plastic_strain'].to_numpy(),Y_test_pred.detach().numpy(), color='b')    \n",
        "    plt.title(title)\n",
        "    plt.xlabel('strain')\n",
        "    plt.ylabel('stress')\n",
        "    plt.legend(['test values','predicted values'])\n",
        "\n",
        "\n",
        "#%%\n",
        "t = np.arange(0,0.5,0.001)\n",
        "x = t**3 - 2*t**2 + t\n",
        "strain = 3*t**2 - 4*t + 1\n",
        "strainrate = 6*t - 4\n",
        "\n",
        "plt.figure(0)\n",
        "plt.plot(t, x)\n",
        "plt.plot(t, strain)\n",
        "plt.plot(t, strainrate)\n",
        "plt.legend(['displacement','strain','strainrate'])\n",
        "\n",
        "deployment_temperature = 100 #C\n",
        "temp = np.full(len(strain),deployment_temperature)\n",
        "dummy = np.zeros(len(strain))\n",
        "\n",
        "deploy_np = np.array([strain,temp,strainrate,dummy]).T\n",
        "\n",
        "deploy_df = pd.DataFrame(deploy_np)\n",
        "deploy_df.columns = ['plastic_strain','temperature','strain_rate','true_stress']\n",
        "\n",
        "X_deploy, Y_deploy = generate_X_and_Y(deploy_df, poly_degree)\n",
        "X_deploy = X_deploy.cuda()\n",
        "Y_deploy_pred = model(X_deploy)\n",
        "Y_deploy_pred = Y_deploy_pred.cpu() \n",
        "\n",
        "plt.figure()\n",
        "plt.plot(strain,Y_deploy_pred.detach().numpy(), color='r')\n",
        "plt.title('Deployment Prediction')\n",
        "plt.xlabel('strain')\n",
        "plt.ylabel('stress')\n",
        "\n",
        "\n",
        "\n"
      ],
      "execution_count": 10,
      "outputs": [
        {
          "output_type": "execute_result",
          "data": {
            "text/plain": [
              "Text(0, 0.5, 'stress')"
            ]
          },
          "metadata": {
            "tags": []
          },
          "execution_count": 10
        },
        {
          "output_type": "display_data",
          "data": {
            "image/png": "[encoded data removed]",
            "text/plain": [
              "<Figure size 432x288 with 1 Axes>"
            ]
          },
          "metadata": {
            "tags": [],
            "needs_background": "light"
          }
        },
        {
          "output_type": "display_data",
          "data": {
            "image/png": "[encoded data removed]",
            "text/plain": [
              "<Figure size 432x288 with 1 Axes>"
            ]
          },
          "metadata": {
            "tags": [],
            "needs_background": "light"
          }
        },
        {
          "output_type": "display_data",
          "data": {
            "image/png": "[encoded data removed]",
            "text/plain": [
              "<Figure size 432x288 with 1 Axes>"
            ]
          },
          "metadata": {
            "tags": [],
            "needs_background": "light"
          }
        },
        {
          "output_type": "display_data",
          "data": {
            "image/png": "[encoded data removed]",
            "text/plain": [
              "<Figure size 432x288 with 1 Axes>"
            ]
          },
          "metadata": {
            "tags": [],
            "needs_background": "light"
          }
        },
        {
          "output_type": "display_data",
          "data": {
            "image/png": "[encoded data removed]",
            "text/plain": [
              "<Figure size 432x288 with 1 Axes>"
            ]
          },
          "metadata": {
            "tags": [],
            "needs_background": "light"
          }
        },
        {
          "output_type": "display_data",
          "data": {
            "image/png": "[encoded data removed]",
            "text/plain": [
              "<Figure size 432x288 with 1 Axes>"
            ]
          },
          "metadata": {
            "tags": [],
            "needs_background": "light"
          }
        },
        {
          "output_type": "display_data",
          "data": {
            "image/png": "[encoded data removed]",
            "text/plain": [
              "<Figure size 432x288 with 1 Axes>"
            ]
          },
          "metadata": {
            "tags": [],
            "needs_background": "light"
          }
        },
        {
          "output_type": "display_data",
          "data": {
            "image/png": "[encoded data removed]",
            "text/plain": [
              "<Figure size 432x288 with 1 Axes>"
            ]
          },
          "metadata": {
            "tags": [],
            "needs_background": "light"
          }
        },
        {
          "output_type": "display_data",
          "data": {
            "image/png": "[encoded data removed]",
            "text/plain": [
              "<Figure size 432x288 with 1 Axes>"
            ]
          },
          "metadata": {
            "tags": [],
            "needs_background": "light"
          }
        }
      ]
    },
    {
      "cell_type": "markdown",
      "metadata": {
        "id": "UGym-OfeqkWV"
      },
      "source": [
        "## LSTM | Data Loading and Pre-Processing\n",
        "\n",
        "**Data Loading:** \n",
        "\n",
        "Load the data provided in the Excel Sheets. Di\u000berent Excel sheets\n",
        "represent the behavior of the material at different strain rates and temperatures.\n",
        "Each Excel sheet contains the data about the variation of stress with strain. You\n",
        "may use, just the true stress vs. plastic strain data for the analysis. (You might\n",
        "have to preprocess the points by removing some points with zero stress and zero\n",
        "strain).\n",
        "\n",
        "**Data preprocessing:** \n",
        "\n",
        "Preprocess the data and create a list of strain, strain-rate,\n",
        "temperature and stress."
      ]
    },
    {
      "cell_type": "code",
      "metadata": {
        "id": "od09zd_zljCq"
      },
      "source": [
        "plastic_strain_tol = 0.01\n",
        "true_stress_tol = 2\n",
        "column_names = ['plastic_strain', 'true_stress']\n",
        "test_temperatures = [150, 550]\n",
        "# neural network parameters\n",
        "hidden_dim_1 = 10\n",
        "hidden_dim_2 = 10\n",
        "poly_degree = 6\n",
        "hidden_dim = 3\n",
        "learning_rate = 3E-4\n",
        "n_folds = 5\n",
        "poly_degree = 2\n",
        "\n",
        "#%%\n",
        "def read_sort_input(file):\n",
        "    # import the data from file name\n",
        "    data = pd.read_excel(file, keep_default_na=False)\n",
        "    # remove empty columns\n",
        "    data = data.loc[:, ~data.columns.str.contains('^Unnamed')]\n",
        "    # grab the file name only to pull metadata\n",
        "    filename = file.split('/')[-1]\n",
        "    \n",
        "    # if plastic strain is available, use it; otherwise use true strain\n",
        "    if len(data.columns) == 8:        \n",
        "        stress_strain = data.iloc[:,6:8]\n",
        "        stress_strain.columns = ['strain', 'stress']\n",
        "    else:\n",
        "        stress_strain = data.iloc[:,4:6]\n",
        "        stress_strain.columns = ['strain', 'stress']\n",
        "        print(filename)\n",
        "    \n",
        "    # remove the data points where both plastic strain and true stress are zero\n",
        "    index_names = stress_strain[ (stress_strain['strain'] < 0.01) | (stress_strain['stress'] < 20) ].index\n",
        "    stress_strain.drop(index_names, inplace=True)\n",
        "    \n",
        "    stress_strain_np = stress_strain.to_numpy()\n",
        "    stress_strain = pd.DataFrame({'strain':stress_strain_np[:,0],'stress':stress_strain_np[:,1]})\n",
        "        \n",
        "    filename_split = re.split('-|_|.xls', filename)\n",
        "    temp = float(filename_split[0])\n",
        "    strain_rate = float(filename_split[1])\n",
        "    #combining metadata of temperature and strainrate from file name\n",
        "    tempstrain = pd.DataFrame({'temperature': temp,'strainrate': strain_rate},index=list(range(len(stress_strain.iloc[1:,0])+1)))\n",
        "    \n",
        "    # combining strain, stress, temperature, and strainrate\n",
        "    combined = pd.concat([stress_strain['strain'],tempstrain,stress_strain['stress']], axis=1)\n",
        "    combined_tensor = torch.tensor(combined.to_numpy(dtype=float)) \n",
        "    \n",
        "    # this next part of the function rearranges the strain data for the LSTM section\n",
        "    strain = combined['strain'].to_numpy()\n",
        "    \n",
        "    # number of strain columns that we want \n",
        "    numCol = 5\n",
        "    \n",
        "    # start the strain array so that we can append later\n",
        "    strain_rearrange = np.zeros((1,numCol))\n",
        "    \n",
        "    # rearrange the strain so that each row is numCol number of strain values\n",
        "    # each column iterates one strain value\n",
        "    for i in range(0,len(strain)-numCol-1):\n",
        "        row = np.array(strain[i:i+numCol])\n",
        "        strain_rearrange = np.vstack((strain_rearrange,row))\n",
        "        \n",
        "    strain_rearrange_df = pd.DataFrame(strain_rearrange[1:,:])  \n",
        "    stress_rearrange = combined['stress'][numCol+1:]\n",
        "    stress_rearrange.reset_index(drop=True, inplace=True)\n",
        "    \n",
        "    tempstrain = pd.DataFrame({'temperature': temp,'strainrate': filename_split[1]},index=list(range(len(strain_rearrange)-1)))\n",
        "    combined_strain = pd.concat([strain_rearrange_df,tempstrain,stress_rearrange], axis=1)\n",
        "    combined_strain_tensor = torch.tensor(combined_strain.to_numpy(dtype=float)) \n",
        "    \n",
        "    return combined, combined_tensor, combined_strain, combined_strain_tensor\n",
        "\n",
        "def list_folder_contents(path):\n",
        "    \n",
        "    # initialize an empty list\n",
        "    entries = []\n",
        "    \n",
        "    # loop through the folder to retieve its contents\n",
        "    for entry in os.listdir(path):\n",
        "        entries.append(entry)\n",
        "        \n",
        "    # return the folder contents\n",
        "    return entries\n",
        "\n",
        "def list_to_tensor(listdata):\n",
        "    tensordata = listdata[0]\n",
        "    for i in range(len(listdata)-1):\n",
        "        tensordata = torch.cat((tensordata, listdata[i+1]))\n",
        "        \n",
        "    return tensordata"
      ],
      "execution_count": 11,
      "outputs": []
    },
    {
      "cell_type": "code",
      "metadata": {
        "colab": {
          "base_uri": "https://localhost:8080/"
        },
        "id": "eFr7CdisbFLJ",
        "outputId": "6c9ab1f0-28d4-450a-bfbf-8fe3d175d99f"
      },
      "source": [
        "# pull all folders in the input path location\n",
        "folder_names = list_folder_contents(path)\n",
        "\n",
        "# initiate list for all of the preprocessed data\n",
        "alldata = []\n",
        "alldata_tensor = []\n",
        "alldata_strainrearranged = []\n",
        "alldata_strainrearranged_tensor = []\n",
        "\n",
        "# look through all folders\n",
        "for folder in folder_names:\n",
        "    filename = list_folder_contents(path + '/' + folder)\n",
        "    \n",
        "    # look at all files in each folder\n",
        "    for file in filename:\n",
        "      print(path + '/' + folder + '/' + file)\n",
        "      # read and preprocess each file in all folders\n",
        "      combined, combined_tensor, combined_strain, combined_strain_tensor = read_sort_input(path + '/' + folder + '/' + file)\n",
        "      # combine data into a single list\n",
        "      alldata_strainrearranged.append(combined_strain)\n",
        "      alldata_strainrearranged_tensor.append(combined_strain_tensor)"
      ],
      "execution_count": 12,
      "outputs": [
        {
          "output_type": "stream",
          "text": [
            "/content/mnt/My Drive/Colab Notebooks/ME592/ME592_HW3/DM/550C/550_.0001.xls\n"
          ],
          "name": "stdout"
        },
        {
          "output_type": "stream",
          "text": [
            "/usr/local/lib/python3.7/dist-packages/pandas/core/frame.py:4174: SettingWithCopyWarning: \n",
            "A value is trying to be set on a copy of a slice from a DataFrame\n",
            "\n",
            "See the caveats in the documentation: https://pandas.pydata.org/pandas-docs/stable/user_guide/indexing.html#returning-a-view-versus-a-copy\n",
            "  errors=errors,\n"
          ],
          "name": "stderr"
        },
        {
          "output_type": "stream",
          "text": [
            "/content/mnt/My Drive/Colab Notebooks/ME592/ME592_HW3/DM/550C/550_.001.xls\n"
          ],
          "name": "stdout"
        },
        {
          "output_type": "stream",
          "text": [
            "/usr/local/lib/python3.7/dist-packages/pandas/core/frame.py:4174: SettingWithCopyWarning: \n",
            "A value is trying to be set on a copy of a slice from a DataFrame\n",
            "\n",
            "See the caveats in the documentation: https://pandas.pydata.org/pandas-docs/stable/user_guide/indexing.html#returning-a-view-versus-a-copy\n",
            "  errors=errors,\n"
          ],
          "name": "stderr"
        },
        {
          "output_type": "stream",
          "text": [
            "/content/mnt/My Drive/Colab Notebooks/ME592/ME592_HW3/DM/550C/550_.01.xls\n"
          ],
          "name": "stdout"
        },
        {
          "output_type": "stream",
          "text": [
            "/usr/local/lib/python3.7/dist-packages/pandas/core/frame.py:4174: SettingWithCopyWarning: \n",
            "A value is trying to be set on a copy of a slice from a DataFrame\n",
            "\n",
            "See the caveats in the documentation: https://pandas.pydata.org/pandas-docs/stable/user_guide/indexing.html#returning-a-view-versus-a-copy\n",
            "  errors=errors,\n",
            "/usr/local/lib/python3.7/dist-packages/pandas/core/frame.py:4174: SettingWithCopyWarning: \n",
            "A value is trying to be set on a copy of a slice from a DataFrame\n",
            "\n",
            "See the caveats in the documentation: https://pandas.pydata.org/pandas-docs/stable/user_guide/indexing.html#returning-a-view-versus-a-copy\n",
            "  errors=errors,\n"
          ],
          "name": "stderr"
        },
        {
          "output_type": "stream",
          "text": [
            "/content/mnt/My Drive/Colab Notebooks/ME592/ME592_HW3/DM/250C/250-0.001.xls\n",
            "/content/mnt/My Drive/Colab Notebooks/ME592/ME592_HW3/DM/250C/250-0.01.xls\n"
          ],
          "name": "stdout"
        },
        {
          "output_type": "stream",
          "text": [
            "/usr/local/lib/python3.7/dist-packages/pandas/core/frame.py:4174: SettingWithCopyWarning: \n",
            "A value is trying to be set on a copy of a slice from a DataFrame\n",
            "\n",
            "See the caveats in the documentation: https://pandas.pydata.org/pandas-docs/stable/user_guide/indexing.html#returning-a-view-versus-a-copy\n",
            "  errors=errors,\n"
          ],
          "name": "stderr"
        },
        {
          "output_type": "stream",
          "text": [
            "/content/mnt/My Drive/Colab Notebooks/ME592/ME592_HW3/DM/250C/250-0.0001.xls\n"
          ],
          "name": "stdout"
        },
        {
          "output_type": "stream",
          "text": [
            "/usr/local/lib/python3.7/dist-packages/pandas/core/frame.py:4174: SettingWithCopyWarning: \n",
            "A value is trying to be set on a copy of a slice from a DataFrame\n",
            "\n",
            "See the caveats in the documentation: https://pandas.pydata.org/pandas-docs/stable/user_guide/indexing.html#returning-a-view-versus-a-copy\n",
            "  errors=errors,\n",
            "/usr/local/lib/python3.7/dist-packages/pandas/core/frame.py:4174: SettingWithCopyWarning: \n",
            "A value is trying to be set on a copy of a slice from a DataFrame\n",
            "\n",
            "See the caveats in the documentation: https://pandas.pydata.org/pandas-docs/stable/user_guide/indexing.html#returning-a-view-versus-a-copy\n",
            "  errors=errors,\n"
          ],
          "name": "stderr"
        },
        {
          "output_type": "stream",
          "text": [
            "/content/mnt/My Drive/Colab Notebooks/ME592/ME592_HW3/DM/250C/250-0.1.xls\n",
            "/content/mnt/My Drive/Colab Notebooks/ME592/ME592_HW3/DM/150C/150-0.001.xls\n",
            "/content/mnt/My Drive/Colab Notebooks/ME592/ME592_HW3/DM/150C/150-0.01.xls\n"
          ],
          "name": "stdout"
        },
        {
          "output_type": "stream",
          "text": [
            "/usr/local/lib/python3.7/dist-packages/pandas/core/frame.py:4174: SettingWithCopyWarning: \n",
            "A value is trying to be set on a copy of a slice from a DataFrame\n",
            "\n",
            "See the caveats in the documentation: https://pandas.pydata.org/pandas-docs/stable/user_guide/indexing.html#returning-a-view-versus-a-copy\n",
            "  errors=errors,\n",
            "/usr/local/lib/python3.7/dist-packages/pandas/core/frame.py:4174: SettingWithCopyWarning: \n",
            "A value is trying to be set on a copy of a slice from a DataFrame\n",
            "\n",
            "See the caveats in the documentation: https://pandas.pydata.org/pandas-docs/stable/user_guide/indexing.html#returning-a-view-versus-a-copy\n",
            "  errors=errors,\n"
          ],
          "name": "stderr"
        },
        {
          "output_type": "stream",
          "text": [
            "/content/mnt/My Drive/Colab Notebooks/ME592/ME592_HW3/DM/150C/150-0.0001.xls\n"
          ],
          "name": "stdout"
        },
        {
          "output_type": "stream",
          "text": [
            "/usr/local/lib/python3.7/dist-packages/pandas/core/frame.py:4174: SettingWithCopyWarning: \n",
            "A value is trying to be set on a copy of a slice from a DataFrame\n",
            "\n",
            "See the caveats in the documentation: https://pandas.pydata.org/pandas-docs/stable/user_guide/indexing.html#returning-a-view-versus-a-copy\n",
            "  errors=errors,\n",
            "/usr/local/lib/python3.7/dist-packages/pandas/core/frame.py:4174: SettingWithCopyWarning: \n",
            "A value is trying to be set on a copy of a slice from a DataFrame\n",
            "\n",
            "See the caveats in the documentation: https://pandas.pydata.org/pandas-docs/stable/user_guide/indexing.html#returning-a-view-versus-a-copy\n",
            "  errors=errors,\n",
            "/usr/local/lib/python3.7/dist-packages/pandas/core/frame.py:4174: SettingWithCopyWarning: \n",
            "A value is trying to be set on a copy of a slice from a DataFrame\n",
            "\n",
            "See the caveats in the documentation: https://pandas.pydata.org/pandas-docs/stable/user_guide/indexing.html#returning-a-view-versus-a-copy\n",
            "  errors=errors,\n"
          ],
          "name": "stderr"
        },
        {
          "output_type": "stream",
          "text": [
            "/content/mnt/My Drive/Colab Notebooks/ME592/ME592_HW3/DM/150C/150-0.1.xls\n",
            "/content/mnt/My Drive/Colab Notebooks/ME592/ME592_HW3/DM/350C/350-0.01.xls\n",
            "/content/mnt/My Drive/Colab Notebooks/ME592/ME592_HW3/DM/350C/350-0.001.xls\n"
          ],
          "name": "stdout"
        },
        {
          "output_type": "stream",
          "text": [
            "/usr/local/lib/python3.7/dist-packages/pandas/core/frame.py:4174: SettingWithCopyWarning: \n",
            "A value is trying to be set on a copy of a slice from a DataFrame\n",
            "\n",
            "See the caveats in the documentation: https://pandas.pydata.org/pandas-docs/stable/user_guide/indexing.html#returning-a-view-versus-a-copy\n",
            "  errors=errors,\n",
            "/usr/local/lib/python3.7/dist-packages/pandas/core/frame.py:4174: SettingWithCopyWarning: \n",
            "A value is trying to be set on a copy of a slice from a DataFrame\n",
            "\n",
            "See the caveats in the documentation: https://pandas.pydata.org/pandas-docs/stable/user_guide/indexing.html#returning-a-view-versus-a-copy\n",
            "  errors=errors,\n"
          ],
          "name": "stderr"
        },
        {
          "output_type": "stream",
          "text": [
            "/content/mnt/My Drive/Colab Notebooks/ME592/ME592_HW3/DM/350C/350-0.1.xls\n",
            "/content/mnt/My Drive/Colab Notebooks/ME592/ME592_HW3/DM/350C/350-0.0001.xls\n"
          ],
          "name": "stdout"
        },
        {
          "output_type": "stream",
          "text": [
            "/usr/local/lib/python3.7/dist-packages/pandas/core/frame.py:4174: SettingWithCopyWarning: \n",
            "A value is trying to be set on a copy of a slice from a DataFrame\n",
            "\n",
            "See the caveats in the documentation: https://pandas.pydata.org/pandas-docs/stable/user_guide/indexing.html#returning-a-view-versus-a-copy\n",
            "  errors=errors,\n"
          ],
          "name": "stderr"
        },
        {
          "output_type": "stream",
          "text": [
            "/content/mnt/My Drive/Colab Notebooks/ME592/ME592_HW3/DM/50C/50-0.01.xls\n"
          ],
          "name": "stdout"
        },
        {
          "output_type": "stream",
          "text": [
            "/usr/local/lib/python3.7/dist-packages/pandas/core/frame.py:4174: SettingWithCopyWarning: \n",
            "A value is trying to be set on a copy of a slice from a DataFrame\n",
            "\n",
            "See the caveats in the documentation: https://pandas.pydata.org/pandas-docs/stable/user_guide/indexing.html#returning-a-view-versus-a-copy\n",
            "  errors=errors,\n"
          ],
          "name": "stderr"
        },
        {
          "output_type": "stream",
          "text": [
            "/content/mnt/My Drive/Colab Notebooks/ME592/ME592_HW3/DM/50C/50-0.001.xls\n"
          ],
          "name": "stdout"
        },
        {
          "output_type": "stream",
          "text": [
            "/usr/local/lib/python3.7/dist-packages/pandas/core/frame.py:4174: SettingWithCopyWarning: \n",
            "A value is trying to be set on a copy of a slice from a DataFrame\n",
            "\n",
            "See the caveats in the documentation: https://pandas.pydata.org/pandas-docs/stable/user_guide/indexing.html#returning-a-view-versus-a-copy\n",
            "  errors=errors,\n",
            "/usr/local/lib/python3.7/dist-packages/pandas/core/frame.py:4174: SettingWithCopyWarning: \n",
            "A value is trying to be set on a copy of a slice from a DataFrame\n",
            "\n",
            "See the caveats in the documentation: https://pandas.pydata.org/pandas-docs/stable/user_guide/indexing.html#returning-a-view-versus-a-copy\n",
            "  errors=errors,\n"
          ],
          "name": "stderr"
        },
        {
          "output_type": "stream",
          "text": [
            "/content/mnt/My Drive/Colab Notebooks/ME592/ME592_HW3/DM/50C/50-0.1.xls\n",
            "/content/mnt/My Drive/Colab Notebooks/ME592/ME592_HW3/DM/50C/50-0.0001.xls\n"
          ],
          "name": "stdout"
        },
        {
          "output_type": "stream",
          "text": [
            "/usr/local/lib/python3.7/dist-packages/pandas/core/frame.py:4174: SettingWithCopyWarning: \n",
            "A value is trying to be set on a copy of a slice from a DataFrame\n",
            "\n",
            "See the caveats in the documentation: https://pandas.pydata.org/pandas-docs/stable/user_guide/indexing.html#returning-a-view-versus-a-copy\n",
            "  errors=errors,\n",
            "/usr/local/lib/python3.7/dist-packages/pandas/core/frame.py:4174: SettingWithCopyWarning: \n",
            "A value is trying to be set on a copy of a slice from a DataFrame\n",
            "\n",
            "See the caveats in the documentation: https://pandas.pydata.org/pandas-docs/stable/user_guide/indexing.html#returning-a-view-versus-a-copy\n",
            "  errors=errors,\n"
          ],
          "name": "stderr"
        },
        {
          "output_type": "stream",
          "text": [
            "/content/mnt/My Drive/Colab Notebooks/ME592/ME592_HW3/DM/300C/300-0.1.xls\n",
            "/content/mnt/My Drive/Colab Notebooks/ME592/ME592_HW3/DM/300C/300-0.001.xls\n",
            "/content/mnt/My Drive/Colab Notebooks/ME592/ME592_HW3/DM/300C/300-0.01.xls\n"
          ],
          "name": "stdout"
        },
        {
          "output_type": "stream",
          "text": [
            "/usr/local/lib/python3.7/dist-packages/pandas/core/frame.py:4174: SettingWithCopyWarning: \n",
            "A value is trying to be set on a copy of a slice from a DataFrame\n",
            "\n",
            "See the caveats in the documentation: https://pandas.pydata.org/pandas-docs/stable/user_guide/indexing.html#returning-a-view-versus-a-copy\n",
            "  errors=errors,\n",
            "/usr/local/lib/python3.7/dist-packages/pandas/core/frame.py:4174: SettingWithCopyWarning: \n",
            "A value is trying to be set on a copy of a slice from a DataFrame\n",
            "\n",
            "See the caveats in the documentation: https://pandas.pydata.org/pandas-docs/stable/user_guide/indexing.html#returning-a-view-versus-a-copy\n",
            "  errors=errors,\n"
          ],
          "name": "stderr"
        },
        {
          "output_type": "stream",
          "text": [
            "/content/mnt/My Drive/Colab Notebooks/ME592/ME592_HW3/DM/300C/300-0.0001.xls\n"
          ],
          "name": "stdout"
        },
        {
          "output_type": "stream",
          "text": [
            "/usr/local/lib/python3.7/dist-packages/pandas/core/frame.py:4174: SettingWithCopyWarning: \n",
            "A value is trying to be set on a copy of a slice from a DataFrame\n",
            "\n",
            "See the caveats in the documentation: https://pandas.pydata.org/pandas-docs/stable/user_guide/indexing.html#returning-a-view-versus-a-copy\n",
            "  errors=errors,\n"
          ],
          "name": "stderr"
        },
        {
          "output_type": "stream",
          "text": [
            "/content/mnt/My Drive/Colab Notebooks/ME592/ME592_HW3/DM/500C/500_.0001.xls\n"
          ],
          "name": "stdout"
        },
        {
          "output_type": "stream",
          "text": [
            "/usr/local/lib/python3.7/dist-packages/pandas/core/frame.py:4174: SettingWithCopyWarning: \n",
            "A value is trying to be set on a copy of a slice from a DataFrame\n",
            "\n",
            "See the caveats in the documentation: https://pandas.pydata.org/pandas-docs/stable/user_guide/indexing.html#returning-a-view-versus-a-copy\n",
            "  errors=errors,\n"
          ],
          "name": "stderr"
        },
        {
          "output_type": "stream",
          "text": [
            "/content/mnt/My Drive/Colab Notebooks/ME592/ME592_HW3/DM/500C/500_.01.xls\n",
            "/content/mnt/My Drive/Colab Notebooks/ME592/ME592_HW3/DM/500C/500_.001.xls\n"
          ],
          "name": "stdout"
        },
        {
          "output_type": "stream",
          "text": [
            "/usr/local/lib/python3.7/dist-packages/pandas/core/frame.py:4174: SettingWithCopyWarning: \n",
            "A value is trying to be set on a copy of a slice from a DataFrame\n",
            "\n",
            "See the caveats in the documentation: https://pandas.pydata.org/pandas-docs/stable/user_guide/indexing.html#returning-a-view-versus-a-copy\n",
            "  errors=errors,\n",
            "/usr/local/lib/python3.7/dist-packages/pandas/core/frame.py:4174: SettingWithCopyWarning: \n",
            "A value is trying to be set on a copy of a slice from a DataFrame\n",
            "\n",
            "See the caveats in the documentation: https://pandas.pydata.org/pandas-docs/stable/user_guide/indexing.html#returning-a-view-versus-a-copy\n",
            "  errors=errors,\n"
          ],
          "name": "stderr"
        },
        {
          "output_type": "stream",
          "text": [
            "/content/mnt/My Drive/Colab Notebooks/ME592/ME592_HW3/DM/450C/450_.0001.xls\n"
          ],
          "name": "stdout"
        },
        {
          "output_type": "stream",
          "text": [
            "/usr/local/lib/python3.7/dist-packages/pandas/core/frame.py:4174: SettingWithCopyWarning: \n",
            "A value is trying to be set on a copy of a slice from a DataFrame\n",
            "\n",
            "See the caveats in the documentation: https://pandas.pydata.org/pandas-docs/stable/user_guide/indexing.html#returning-a-view-versus-a-copy\n",
            "  errors=errors,\n"
          ],
          "name": "stderr"
        },
        {
          "output_type": "stream",
          "text": [
            "/content/mnt/My Drive/Colab Notebooks/ME592/ME592_HW3/DM/450C/450_.001.xls\n"
          ],
          "name": "stdout"
        },
        {
          "output_type": "stream",
          "text": [
            "/usr/local/lib/python3.7/dist-packages/pandas/core/frame.py:4174: SettingWithCopyWarning: \n",
            "A value is trying to be set on a copy of a slice from a DataFrame\n",
            "\n",
            "See the caveats in the documentation: https://pandas.pydata.org/pandas-docs/stable/user_guide/indexing.html#returning-a-view-versus-a-copy\n",
            "  errors=errors,\n",
            "/usr/local/lib/python3.7/dist-packages/pandas/core/frame.py:4174: SettingWithCopyWarning: \n",
            "A value is trying to be set on a copy of a slice from a DataFrame\n",
            "\n",
            "See the caveats in the documentation: https://pandas.pydata.org/pandas-docs/stable/user_guide/indexing.html#returning-a-view-versus-a-copy\n",
            "  errors=errors,\n"
          ],
          "name": "stderr"
        },
        {
          "output_type": "stream",
          "text": [
            "/content/mnt/My Drive/Colab Notebooks/ME592/ME592_HW3/DM/450C/450_.01.xls\n",
            "/content/mnt/My Drive/Colab Notebooks/ME592/ME592_HW3/DM/100C/100-0.01.xls\n"
          ],
          "name": "stdout"
        },
        {
          "output_type": "stream",
          "text": [
            "/usr/local/lib/python3.7/dist-packages/pandas/core/frame.py:4174: SettingWithCopyWarning: \n",
            "A value is trying to be set on a copy of a slice from a DataFrame\n",
            "\n",
            "See the caveats in the documentation: https://pandas.pydata.org/pandas-docs/stable/user_guide/indexing.html#returning-a-view-versus-a-copy\n",
            "  errors=errors,\n",
            "/usr/local/lib/python3.7/dist-packages/pandas/core/frame.py:4174: SettingWithCopyWarning: \n",
            "A value is trying to be set on a copy of a slice from a DataFrame\n",
            "\n",
            "See the caveats in the documentation: https://pandas.pydata.org/pandas-docs/stable/user_guide/indexing.html#returning-a-view-versus-a-copy\n",
            "  errors=errors,\n"
          ],
          "name": "stderr"
        },
        {
          "output_type": "stream",
          "text": [
            "/content/mnt/My Drive/Colab Notebooks/ME592/ME592_HW3/DM/100C/100-0.001.xls\n",
            "/content/mnt/My Drive/Colab Notebooks/ME592/ME592_HW3/DM/100C/100-0.1.xls\n"
          ],
          "name": "stdout"
        },
        {
          "output_type": "stream",
          "text": [
            "/usr/local/lib/python3.7/dist-packages/pandas/core/frame.py:4174: SettingWithCopyWarning: \n",
            "A value is trying to be set on a copy of a slice from a DataFrame\n",
            "\n",
            "See the caveats in the documentation: https://pandas.pydata.org/pandas-docs/stable/user_guide/indexing.html#returning-a-view-versus-a-copy\n",
            "  errors=errors,\n"
          ],
          "name": "stderr"
        },
        {
          "output_type": "stream",
          "text": [
            "/content/mnt/My Drive/Colab Notebooks/ME592/ME592_HW3/DM/100C/100-0.0001.xls\n"
          ],
          "name": "stdout"
        },
        {
          "output_type": "stream",
          "text": [
            "/usr/local/lib/python3.7/dist-packages/pandas/core/frame.py:4174: SettingWithCopyWarning: \n",
            "A value is trying to be set on a copy of a slice from a DataFrame\n",
            "\n",
            "See the caveats in the documentation: https://pandas.pydata.org/pandas-docs/stable/user_guide/indexing.html#returning-a-view-versus-a-copy\n",
            "  errors=errors,\n",
            "/usr/local/lib/python3.7/dist-packages/pandas/core/frame.py:4174: SettingWithCopyWarning: \n",
            "A value is trying to be set on a copy of a slice from a DataFrame\n",
            "\n",
            "See the caveats in the documentation: https://pandas.pydata.org/pandas-docs/stable/user_guide/indexing.html#returning-a-view-versus-a-copy\n",
            "  errors=errors,\n"
          ],
          "name": "stderr"
        },
        {
          "output_type": "stream",
          "text": [
            "/content/mnt/My Drive/Colab Notebooks/ME592/ME592_HW3/DM/200C/200-0.001.xls\n",
            "/content/mnt/My Drive/Colab Notebooks/ME592/ME592_HW3/DM/200C/200-0.01.xls\n"
          ],
          "name": "stdout"
        },
        {
          "output_type": "stream",
          "text": [
            "/usr/local/lib/python3.7/dist-packages/pandas/core/frame.py:4174: SettingWithCopyWarning: \n",
            "A value is trying to be set on a copy of a slice from a DataFrame\n",
            "\n",
            "See the caveats in the documentation: https://pandas.pydata.org/pandas-docs/stable/user_guide/indexing.html#returning-a-view-versus-a-copy\n",
            "  errors=errors,\n"
          ],
          "name": "stderr"
        },
        {
          "output_type": "stream",
          "text": [
            "/content/mnt/My Drive/Colab Notebooks/ME592/ME592_HW3/DM/200C/200-0.0001.xls\n"
          ],
          "name": "stdout"
        },
        {
          "output_type": "stream",
          "text": [
            "/usr/local/lib/python3.7/dist-packages/pandas/core/frame.py:4174: SettingWithCopyWarning: \n",
            "A value is trying to be set on a copy of a slice from a DataFrame\n",
            "\n",
            "See the caveats in the documentation: https://pandas.pydata.org/pandas-docs/stable/user_guide/indexing.html#returning-a-view-versus-a-copy\n",
            "  errors=errors,\n",
            "/usr/local/lib/python3.7/dist-packages/pandas/core/frame.py:4174: SettingWithCopyWarning: \n",
            "A value is trying to be set on a copy of a slice from a DataFrame\n",
            "\n",
            "See the caveats in the documentation: https://pandas.pydata.org/pandas-docs/stable/user_guide/indexing.html#returning-a-view-versus-a-copy\n",
            "  errors=errors,\n"
          ],
          "name": "stderr"
        },
        {
          "output_type": "stream",
          "text": [
            "/content/mnt/My Drive/Colab Notebooks/ME592/ME592_HW3/DM/200C/200-0.1.xls\n",
            "/content/mnt/My Drive/Colab Notebooks/ME592/ME592_HW3/DM/600C/600_.001.xls\n"
          ],
          "name": "stdout"
        },
        {
          "output_type": "stream",
          "text": [
            "/usr/local/lib/python3.7/dist-packages/pandas/core/frame.py:4174: SettingWithCopyWarning: \n",
            "A value is trying to be set on a copy of a slice from a DataFrame\n",
            "\n",
            "See the caveats in the documentation: https://pandas.pydata.org/pandas-docs/stable/user_guide/indexing.html#returning-a-view-versus-a-copy\n",
            "  errors=errors,\n",
            "/usr/local/lib/python3.7/dist-packages/pandas/core/frame.py:4174: SettingWithCopyWarning: \n",
            "A value is trying to be set on a copy of a slice from a DataFrame\n",
            "\n",
            "See the caveats in the documentation: https://pandas.pydata.org/pandas-docs/stable/user_guide/indexing.html#returning-a-view-versus-a-copy\n",
            "  errors=errors,\n"
          ],
          "name": "stderr"
        },
        {
          "output_type": "stream",
          "text": [
            "/content/mnt/My Drive/Colab Notebooks/ME592/ME592_HW3/DM/600C/600_.01.xls\n",
            "/content/mnt/My Drive/Colab Notebooks/ME592/ME592_HW3/DM/600C/600_.0001.xls\n"
          ],
          "name": "stdout"
        },
        {
          "output_type": "stream",
          "text": [
            "/usr/local/lib/python3.7/dist-packages/pandas/core/frame.py:4174: SettingWithCopyWarning: \n",
            "A value is trying to be set on a copy of a slice from a DataFrame\n",
            "\n",
            "See the caveats in the documentation: https://pandas.pydata.org/pandas-docs/stable/user_guide/indexing.html#returning-a-view-versus-a-copy\n",
            "  errors=errors,\n"
          ],
          "name": "stderr"
        },
        {
          "output_type": "stream",
          "text": [
            "/content/mnt/My Drive/Colab Notebooks/ME592/ME592_HW3/DM/650C/650_.0001.xls\n"
          ],
          "name": "stdout"
        },
        {
          "output_type": "stream",
          "text": [
            "/usr/local/lib/python3.7/dist-packages/pandas/core/frame.py:4174: SettingWithCopyWarning: \n",
            "A value is trying to be set on a copy of a slice from a DataFrame\n",
            "\n",
            "See the caveats in the documentation: https://pandas.pydata.org/pandas-docs/stable/user_guide/indexing.html#returning-a-view-versus-a-copy\n",
            "  errors=errors,\n"
          ],
          "name": "stderr"
        },
        {
          "output_type": "stream",
          "text": [
            "/content/mnt/My Drive/Colab Notebooks/ME592/ME592_HW3/DM/650C/650_.001.xls\n",
            "/content/mnt/My Drive/Colab Notebooks/ME592/ME592_HW3/DM/650C/650_.01.xls\n"
          ],
          "name": "stdout"
        },
        {
          "output_type": "stream",
          "text": [
            "/usr/local/lib/python3.7/dist-packages/pandas/core/frame.py:4174: SettingWithCopyWarning: \n",
            "A value is trying to be set on a copy of a slice from a DataFrame\n",
            "\n",
            "See the caveats in the documentation: https://pandas.pydata.org/pandas-docs/stable/user_guide/indexing.html#returning-a-view-versus-a-copy\n",
            "  errors=errors,\n",
            "/usr/local/lib/python3.7/dist-packages/pandas/core/frame.py:4174: SettingWithCopyWarning: \n",
            "A value is trying to be set on a copy of a slice from a DataFrame\n",
            "\n",
            "See the caveats in the documentation: https://pandas.pydata.org/pandas-docs/stable/user_guide/indexing.html#returning-a-view-versus-a-copy\n",
            "  errors=errors,\n"
          ],
          "name": "stderr"
        }
      ]
    },
    {
      "cell_type": "markdown",
      "metadata": {
        "id": "OnsfptEpq8w0"
      },
      "source": [
        "## LSTM | Data Split\n",
        "\n",
        "**Data split:** \n",
        "\n",
        "Split the data pertaining into three parts (training, validation and\n",
        "testing). Two temperatures can be selected as test data. Choose a strategy to\n",
        "divide the data for training and validation (a typical strategy is to split the data\n",
        "into 60% training and 40% testing, or 80-20). Justify the strategy you select. Also,\n",
        "use k-fold cross validation strategy for training."
      ]
    },
    {
      "cell_type": "code",
      "metadata": {
        "id": "ZFRVcNZHh0PG"
      },
      "source": [
        "# strain rearranged here denotes creating a tensor with 5 sequential strain datapoints\n",
        "# the following lines reformat the tensor into a pandas dataframe in the order:\n",
        "# [ strain1, strain2, strain3, strain4, strain5, temperature, strain_rate, stress]\n",
        "# the LSTM model needs these additional point to recognize the dependence of the stress \n",
        "# on the previous strain values\n",
        "alldata_strainrearranged = list_to_tensor(alldata_strainrearranged_tensor)\n",
        "alldata_strainrearranged_view = alldata_strainrearranged.numpy()\n",
        "alldata_strainrearranged_df = pd.DataFrame(alldata_strainrearranged_view)\n",
        "alldata_strainrearranged_df.columns = ['strain1','strain2','strain3','strain4','strain5','temperature','strain_rate', 'true_stress']\n",
        "\n",
        "#%%\n",
        "# split 'all_data' into train and test\n",
        "# choose 2 temperatures as test data as per the project requirements\n",
        "all_data_train = alldata_strainrearranged_df.loc[~alldata_strainrearranged_df['temperature'].isin(test_temperatures)]\n",
        "all_data_test = alldata_strainrearranged_df.loc[alldata_strainrearranged_df['temperature'].isin(test_temperatures)]\n",
        "\n",
        "X = all_data_train.values\n",
        "min_max_scaler = preprocessing.MinMaxScaler()\n",
        "X_scaled = min_max_scaler.fit_transform(X)\n",
        "X_unscale = min_max_scaler.inverse_transform(X_scaled)\n",
        "all_data_train = pd.DataFrame(X_scaled)\n",
        "all_data_train.columns = ['strain1','strain2','strain3','strain4','strain5','temperature','strain_rate', 'true_stress']"
      ],
      "execution_count": 14,
      "outputs": []
    },
    {
      "cell_type": "markdown",
      "metadata": {
        "id": "UpyGLPR0bW6W"
      },
      "source": [
        "## LSTM | Neural Network\n",
        "\n",
        "**LSTMs:** \n",
        "\n",
        "build a LSTM network to predict \n",
        "ow stress for a given strain, strain-rate\n",
        "and temperature. Do a study on the parameter study on the roll-out of the LSTM\n",
        "required. Also, you might have to add zeros after the failure point to recognize the\n",
        "failure of the material."
      ]
    },
    {
      "cell_type": "code",
      "metadata": {
        "id": "dwaDFxupFxwe"
      },
      "source": [
        "class LSTM(nn.Module):\n",
        "    def __init__(self, input_size=1, hidden_layer_size=100, output_size=1):\n",
        "        super().__init__()\n",
        "        self.hidden_layer_size = hidden_layer_size\n",
        "\n",
        "        self.lstm = nn.LSTM(input_size, hidden_layer_size)\n",
        "\n",
        "        self.linear = nn.Linear(hidden_layer_size, output_size)\n",
        "\n",
        "        self.hidden_cell = (torch.zeros(1,1,self.hidden_layer_size),\n",
        "                            torch.zeros(1,1,self.hidden_layer_size))\n",
        "\n",
        "    def forward(self, input_seq):\n",
        "        lstm_out, self.hidden_cell = self.lstm(input_seq.view(len(input_seq) ,1, -1), self.hidden_cell)\n",
        "        predictions = self.linear(lstm_out.view(len(input_seq), -1))\n",
        "        return predictions[-1]"
      ],
      "execution_count": 15,
      "outputs": []
    },
    {
      "cell_type": "code",
      "metadata": {
        "colab": {
          "base_uri": "https://localhost:8080/"
        },
        "id": "hz6WvNvpBr6g",
        "outputId": "41dc82fe-4664-4e37-c94c-b9ac3f97e52e"
      },
      "source": [
        "lstm_model = LSTM()\n",
        "loss_function = nn.MSELoss()\n",
        "optimizer = torch.optim.Adam(lstm_model.parameters(), lr=0.001)\n",
        "\n",
        "# define the k-fold\n",
        "k_fold = KFold(n_splits = n_folds, shuffle=False, random_state=1)\n",
        "\n",
        "for train_index, validate_index in k_fold.split(all_data_train):\n",
        "  train_fold = all_data_train.iloc[train_index]\n",
        "  validate_fold = all_data_train.iloc[validate_index]\n",
        "\n",
        "  train_input = train_fold.iloc[:,[0,1,2,3,4,5,6]].to_numpy()\n",
        "  train_output = train_fold.iloc[:,7].to_numpy()\n",
        "\n",
        "  train_input = torch.tensor(train_input).float()\n",
        "  train_output = torch.tensor(train_output).float()\n",
        "\n",
        "  validate_input = validate_fold.iloc[:,[0,1,2,3,4,5,6]].to_numpy()\n",
        "  validate_output = validate_fold.iloc[:,7].to_numpy()\n",
        "\n",
        "  validate_input = torch.tensor(validate_input).float()\n",
        "  validate_output = torch.tensor(validate_output).float()\n",
        "    \n",
        "  for k in range(len(train_input)):\n",
        "\n",
        "    fold_loss = 0\n",
        "    optimizer.zero_grad()\n",
        "    lstm_model.hidden_cell = (torch.zeros(1, 1, lstm_model.hidden_layer_size),\n",
        "                    torch.zeros(1, 1, lstm_model.hidden_layer_size))\n",
        "\n",
        "    y_pred = lstm_model(train_input[k])\n",
        "    single_loss = loss_function(y_pred, train_output[k])\n",
        "    single_loss.backward()\n",
        "    optimizer.step()\n",
        "\n",
        "    if k % 10000 == 99:\n",
        "      text1 = 'Step: {} of {}, Loss: {}'.format(k, len(train_input), single_loss)\n",
        "      print(text1)\n",
        "\n",
        "  for i in range(len(validate_input)):\n",
        "    y_pred_validate = lstm_model(validate_input[i])\n",
        "    validate_loss = loss_function(y_pred_validate, validate_output[i])\n",
        "\n",
        "    fold_loss += validate_loss\n",
        "\n",
        "  text2 = 'Fold error is {}'.format(fold_loss/len(validate_input))\n",
        "  print('-----------')\n",
        "  print(text2)\n",
        "  print('-----------')\n"
      ],
      "execution_count": 16,
      "outputs": [
        {
          "output_type": "stream",
          "text": [
            "/usr/local/lib/python3.7/dist-packages/sklearn/model_selection/_split.py:296: FutureWarning: Setting a random_state has no effect since shuffle is False. This will raise an error in 0.24. You should leave random_state to its default (None), or set shuffle=True.\n",
            "  FutureWarning\n",
            "/usr/local/lib/python3.7/dist-packages/torch/nn/modules/loss.py:528: UserWarning: Using a target size (torch.Size([])) that is different to the input size (torch.Size([1])). This will likely lead to incorrect results due to broadcasting. Please ensure they have the same size.\n",
            "  return F.mse_loss(input, target, reduction=self.reduction)\n"
          ],
          "name": "stderr"
        },
        {
          "output_type": "stream",
          "text": [
            "Step: 99 of 76104, Loss: 3.5741420560952974e-06\n",
            "Step: 10099 of 76104, Loss: 2.7391645289753797e-06\n",
            "Step: 20099 of 76104, Loss: 6.249218859011307e-05\n",
            "Step: 30099 of 76104, Loss: 0.00011029974120901898\n",
            "Step: 40099 of 76104, Loss: 7.569333888568508e-07\n",
            "Step: 50099 of 76104, Loss: 3.1451136237592436e-06\n",
            "Step: 60099 of 76104, Loss: 0.00010987447603838518\n",
            "Step: 70099 of 76104, Loss: 0.00017630468937568367\n",
            "-----------\n",
            "Fold error is 0.028128590434789658\n",
            "-----------\n",
            "Step: 99 of 76105, Loss: 6.731267490067694e-07\n",
            "Step: 10099 of 76105, Loss: 1.6832065057315049e-06\n",
            "Step: 20099 of 76105, Loss: 1.5060368241393007e-05\n",
            "Step: 30099 of 76105, Loss: 0.00012404490553308278\n",
            "Step: 40099 of 76105, Loss: 2.4524269974790514e-06\n",
            "Step: 50099 of 76105, Loss: 2.1187859147175914e-06\n",
            "Step: 60099 of 76105, Loss: 8.79633953445591e-05\n",
            "Step: 70099 of 76105, Loss: 0.00012730699381791055\n",
            "-----------\n",
            "Fold error is 0.019004350528120995\n",
            "-----------\n",
            "Step: 99 of 76105, Loss: 3.5386221952649066e-08\n",
            "Step: 10099 of 76105, Loss: 7.210240937638446e-08\n",
            "Step: 20099 of 76105, Loss: 1.3909775589127094e-06\n",
            "Step: 30099 of 76105, Loss: 3.7313386656023795e-06\n",
            "Step: 40099 of 76105, Loss: 1.7821321307565086e-06\n",
            "Step: 50099 of 76105, Loss: 2.566480361565482e-06\n",
            "Step: 60099 of 76105, Loss: 8.586324838688597e-05\n",
            "Step: 70099 of 76105, Loss: 0.00012663267261814326\n",
            "-----------\n",
            "Fold error is 0.1704331934452057\n",
            "-----------\n",
            "Step: 99 of 76105, Loss: 1.0647057706592022e-06\n",
            "Step: 10099 of 76105, Loss: 1.7650361883170262e-07\n",
            "Step: 20099 of 76105, Loss: 2.3892728222563164e-06\n",
            "Step: 30099 of 76105, Loss: 1.2289770893403329e-05\n",
            "Step: 40099 of 76105, Loss: 1.0398211998108309e-06\n",
            "Step: 50099 of 76105, Loss: 1.27786870507407e-05\n",
            "Step: 60099 of 76105, Loss: 6.075422061257996e-05\n",
            "Step: 70099 of 76105, Loss: 0.0001613469357835129\n",
            "-----------\n",
            "Fold error is 1.002514362335205\n",
            "-----------\n",
            "Step: 99 of 76105, Loss: 7.539804300904507e-07\n",
            "Step: 10099 of 76105, Loss: 2.0987052096188563e-08\n",
            "Step: 20099 of 76105, Loss: 1.7392383597325534e-05\n",
            "Step: 30099 of 76105, Loss: 5.7889772975272535e-09\n",
            "Step: 40099 of 76105, Loss: 2.485948300545715e-07\n",
            "Step: 50099 of 76105, Loss: 3.333932181703858e-05\n",
            "Step: 60099 of 76105, Loss: 1.626388126396705e-07\n",
            "Step: 70099 of 76105, Loss: 2.68549570137111e-07\n",
            "-----------\n",
            "Fold error is 0.009685051627457142\n",
            "-----------\n"
          ],
          "name": "stdout"
        }
      ]
    },
    {
      "cell_type": "markdown",
      "metadata": {
        "id": "m57JlTV3D7of"
      },
      "source": [
        "## LSTM | Testing and Deployment\n",
        "\n",
        "**Deployment:** \n",
        "\n",
        "The true stress and true strain results are obtained for a sheet metal.\n",
        "Tensile testing is performed on a small rectangular strip, 6cm in length and the jaws\n",
        "holding one end of the specimen and the other side is pulled by a displacement of\n",
        "x. For all the experiments in the data, displacement is such a way that the strain\n",
        "rate is constant through out the process. However, in forming strain rate varies\n",
        "non-linearly. Example: your displacement could be represented as x = t^3 - 2t^2 + t.\n",
        "Then, predict the stress-strain curve for this profile of displacements. (Hint: you\n",
        "need to use the Hooke's law and related components to convert the x to strains and\n",
        "strain rates and then eventually computing the stress strain curve for same).\n",
        "\n",
        "**Presenting results:** \n",
        "\n",
        "Compare the results you obtain for training, validation and\n",
        "testing data on the naive learning model and the LSTM. Visualize the stress-strain\n",
        "curves of the predicted (both) and the actual. Also, visualize the stress-strain curve\n",
        "for the deployment for both the learning cases.\n"
      ]
    },
    {
      "cell_type": "markdown",
      "metadata": {
        "id": "RlFB_xB-ftOF"
      },
      "source": [
        "**150C Test Data**"
      ]
    },
    {
      "cell_type": "code",
      "metadata": {
        "colab": {
          "base_uri": "https://localhost:8080/",
          "height": 1000
        },
        "id": "aF0Ybvv94M2k",
        "outputId": "97491d26-0d02-476f-871f-8ce159341d0a"
      },
      "source": [
        "path_150 = r'/content/mnt/My Drive/Colab Notebooks/ME592/ME592_HW3/DM/150C'\n",
        "path_550 = r'/content/mnt/My Drive/Colab Notebooks/ME592/ME592_HW3/DM/550C'\n",
        "\n",
        "# initiate list for all of the preprocessed data\n",
        "data150_strainrearranged = []\n",
        "data150_strainrearranged_tensor = []\n",
        "\n",
        "filename = list_folder_contents(path_150)\n",
        "\n",
        "# look at all files in each folder\n",
        "for file in filename:\n",
        "  print('-----------------------------')\n",
        "  print(path_150 + '/' + file)\n",
        "  print('-----------------------------')\n",
        "  # read and preprocess each file in all folders\n",
        "  combined, combined_tensor, combined_strain, combined_strain_tensor = read_sort_input(path_150 + '/' + file)\n",
        "\n",
        "  # strain rearranged here denotes creating a tensor with 5 sequential strain datapoints\n",
        "  # the following lines reformat the tensor into a pandas dataframe in the order:\n",
        "  # [ strain1, strain2, strain3, strain4, strain5, temperature, strain_rate, stress]\n",
        "  # the LSTM model needs these additional point to recognize the dependence of the stress \n",
        "  # on the previous strain values\n",
        "  data150_strainrearranged_view = combined_strain_tensor.numpy()\n",
        "  data150_strainrearranged_df = pd.DataFrame(data150_strainrearranged_view)\n",
        "  data150_strainrearranged_df.columns = ['strain1','strain2','strain3','strain4','strain5','temperature','strain_rate', 'true_stress']\n",
        "\n",
        "  # scaling the values of data, both input and output\n",
        "  X = data150_strainrearranged_df.values\n",
        "  min_max_scaler = preprocessing.MinMaxScaler()\n",
        "  X_scaled = min_max_scaler.fit_transform(X)\n",
        "  X_unscale = min_max_scaler.inverse_transform(X_scaled)\n",
        "  data150_validate = pd.DataFrame(X_scaled)\n",
        "  data150_validate.columns = ['strain1','strain2','strain3','strain4','strain5','temperature','strain_rate', 'true_stress']\n",
        "\n",
        "  # seperating the inputs [strains, temp, strain rate] from the outputs [stress]\n",
        "  data150_validate_input = data150_validate.iloc[:,[0,1,2,3,4,5,6]].to_numpy()\n",
        "  data150_validate_output = data150_validate.iloc[:,7].to_numpy()\n",
        "\n",
        "  # convert to tensor\n",
        "  data150_validate_input = torch.tensor(data150_validate_input).float()\n",
        "  data150_validate_output = torch.tensor(data150_validate_output).float()\n",
        "\n",
        "  # initate the prediction array\n",
        "  data150_predY = np.empty(8)\n",
        "\n",
        "  # iterate through the input to predict the outputs\n",
        "  for i in range(len(data150_validate_input)):\n",
        "    data150_pred_validate = lstm_model(data150_validate_input[i])\n",
        "    data150_scaled = np.concatenate((data150_validate_input[i],data150_pred_validate.detach().numpy()))\n",
        "    data150_predY = np.vstack((data150_predY,data150_scaled))\n",
        "\n",
        "  # drop the first line which is the empy row\n",
        "  data150_predY = data150_predY[1:,:]\n",
        "  # transform back to real space\n",
        "  data150_unscale = min_max_scaler.inverse_transform(data150_predY)\n",
        "\n",
        "  filename_split = re.split('-|_|.xls', file)\n",
        "  temperature = float(filename_split[0])\n",
        "  strain_rate = float(filename_split[1])\n",
        "  title = 'Test Files at Temperature of {}, Strain Rate {}'.format(temperature,strain_rate)\n",
        "\n",
        "  plt.figure()\n",
        "  plt.plot(data150_unscale[:,4],data150_unscale[:,7], color='b')\n",
        "  plt.plot(X[:,4],X[:,7], color='r')\n",
        "  plt.title(title)\n",
        "  plt.xlabel('strain')\n",
        "  plt.ylabel('stress')"
      ],
      "execution_count": 17,
      "outputs": [
        {
          "output_type": "stream",
          "text": [
            "-----------------------------\n",
            "/content/mnt/My Drive/Colab Notebooks/ME592/ME592_HW3/DM/150C/150-0.001.xls\n",
            "-----------------------------\n"
          ],
          "name": "stdout"
        },
        {
          "output_type": "stream",
          "text": [
            "/usr/local/lib/python3.7/dist-packages/pandas/core/frame.py:4174: SettingWithCopyWarning: \n",
            "A value is trying to be set on a copy of a slice from a DataFrame\n",
            "\n",
            "See the caveats in the documentation: https://pandas.pydata.org/pandas-docs/stable/user_guide/indexing.html#returning-a-view-versus-a-copy\n",
            "  errors=errors,\n"
          ],
          "name": "stderr"
        },
        {
          "output_type": "stream",
          "text": [
            "-----------------------------\n",
            "/content/mnt/My Drive/Colab Notebooks/ME592/ME592_HW3/DM/150C/150-0.01.xls\n",
            "-----------------------------\n"
          ],
          "name": "stdout"
        },
        {
          "output_type": "stream",
          "text": [
            "/usr/local/lib/python3.7/dist-packages/pandas/core/frame.py:4174: SettingWithCopyWarning: \n",
            "A value is trying to be set on a copy of a slice from a DataFrame\n",
            "\n",
            "See the caveats in the documentation: https://pandas.pydata.org/pandas-docs/stable/user_guide/indexing.html#returning-a-view-versus-a-copy\n",
            "  errors=errors,\n"
          ],
          "name": "stderr"
        },
        {
          "output_type": "stream",
          "text": [
            "-----------------------------\n",
            "/content/mnt/My Drive/Colab Notebooks/ME592/ME592_HW3/DM/150C/150-0.0001.xls\n",
            "-----------------------------\n"
          ],
          "name": "stdout"
        },
        {
          "output_type": "stream",
          "text": [
            "/usr/local/lib/python3.7/dist-packages/pandas/core/frame.py:4174: SettingWithCopyWarning: \n",
            "A value is trying to be set on a copy of a slice from a DataFrame\n",
            "\n",
            "See the caveats in the documentation: https://pandas.pydata.org/pandas-docs/stable/user_guide/indexing.html#returning-a-view-versus-a-copy\n",
            "  errors=errors,\n"
          ],
          "name": "stderr"
        },
        {
          "output_type": "stream",
          "text": [
            "-----------------------------\n",
            "/content/mnt/My Drive/Colab Notebooks/ME592/ME592_HW3/DM/150C/150-0.1.xls\n",
            "-----------------------------\n"
          ],
          "name": "stdout"
        },
        {
          "output_type": "stream",
          "text": [
            "/usr/local/lib/python3.7/dist-packages/pandas/core/frame.py:4174: SettingWithCopyWarning: \n",
            "A value is trying to be set on a copy of a slice from a DataFrame\n",
            "\n",
            "See the caveats in the documentation: https://pandas.pydata.org/pandas-docs/stable/user_guide/indexing.html#returning-a-view-versus-a-copy\n",
            "  errors=errors,\n"
          ],
          "name": "stderr"
        },
        {
          "output_type": "display_data",
          "data": {
            "image/png": "[encoded data removed]",
            "text/plain": [
              "<Figure size 432x288 with 1 Axes>"
            ]
          },
          "metadata": {
            "tags": [],
            "needs_background": "light"
          }
        },
        {
          "output_type": "display_data",
          "data": {
            "image/png": "[encoded data removed]",
            "text/plain": [
              "<Figure size 432x288 with 1 Axes>"
            ]
          },
          "metadata": {
            "tags": [],
            "needs_background": "light"
          }
        },
        {
          "output_type": "display_data",
          "data": {
            "image/png": "[encoded data removed]",
            "text/plain": [
              "<Figure size 432x288 with 1 Axes>"
            ]
          },
          "metadata": {
            "tags": [],
            "needs_background": "light"
          }
        },
        {
          "output_type": "display_data",
          "data": {
            "image/png": "[encoded data removed]",
            "text/plain": [
              "<Figure size 432x288 with 1 Axes>"
            ]
          },
          "metadata": {
            "tags": [],
            "needs_background": "light"
          }
        }
      ]
    },
    {
      "cell_type": "markdown",
      "metadata": {
        "id": "ab7GXMNvfkjZ"
      },
      "source": [
        "**550C Test Data**"
      ]
    },
    {
      "cell_type": "code",
      "metadata": {
        "colab": {
          "base_uri": "https://localhost:8080/",
          "height": 1000
        },
        "id": "tZjuh6cW-Dtm",
        "outputId": "f0592932-7d46-40a5-a6ce-0eaa8ea37f82"
      },
      "source": [
        "# initiate list for all of the preprocessed data\n",
        "data550_strainrearranged = []\n",
        "data550_strainrearranged_tensor = []\n",
        "\n",
        "filename = list_folder_contents(path_550)\n",
        "\n",
        "# look at all files in each folder\n",
        "for file in filename:\n",
        "  print('-----------------------------')\n",
        "  print(path_550 + '/' + file)\n",
        "  print('-----------------------------')\n",
        "  # read and preprocess each file in all folders\n",
        "  combined, combined_tensor, combined_strain, combined_strain_tensor = read_sort_input(path_550 + '/' + file)\n",
        "\n",
        "  # strain rearranged here denotes creating a tensor with 5 sequential strain datapoints\n",
        "  # the following lines reformat the tensor into a pandas dataframe in the order:\n",
        "  # [ strain1, strain2, strain3, strain4, strain5, temperature, strain_rate, stress]\n",
        "  # the LSTM model needs these additional point to recognize the dependence of the stress \n",
        "  # on the previous strain values\n",
        "  data550_strainrearranged_view = combined_strain_tensor.numpy()\n",
        "  data550_strainrearranged_df = pd.DataFrame(data550_strainrearranged_view)\n",
        "  data550_strainrearranged_df.columns = ['strain1','strain2','strain3','strain4','strain5','temperature','strain_rate', 'true_stress']\n",
        "\n",
        "  X = data550_strainrearranged_df.values\n",
        "  min_max_scaler = preprocessing.MinMaxScaler()\n",
        "  X_scaled = min_max_scaler.fit_transform(X)\n",
        "  X_unscale = min_max_scaler.inverse_transform(X_scaled)\n",
        "  data550_validate = pd.DataFrame(X_scaled)\n",
        "  data550_validate.columns = ['strain1','strain2','strain3','strain4','strain5','temperature','strain_rate', 'true_stress']\n",
        "\n",
        "  data550_validate_input = data550_validate.iloc[:,[0,1,2,3,4,5,6]].to_numpy()\n",
        "  data550_validate_output = data550_validate.iloc[:,7].to_numpy()\n",
        "\n",
        "  data550_validate_input = torch.tensor(data550_validate_input).float()\n",
        "  data550_validate_output = torch.tensor(data550_validate_output).float()\n",
        "\n",
        "  data550_predY = np.empty(8)\n",
        "\n",
        "  for i in range(len(data550_validate_input)):\n",
        "    data550_pred_validate = lstm_model(data550_validate_input[i])\n",
        "    data550_scaled = np.concatenate((data550_validate_input[i],data550_pred_validate.detach().numpy()))\n",
        "    data550_predY = np.vstack((data550_predY,data550_scaled))\n",
        "\n",
        "  data550_predY = data550_predY[1:,:]\n",
        "  data550_unscale = min_max_scaler.inverse_transform(data550_predY)\n",
        "\n",
        "  print(data550_unscale.shape)\n",
        "  print(X.shape)\n",
        "\n",
        "  filename_split = re.split('-|_|.xls', file)\n",
        "  temperature = float(filename_split[0])\n",
        "  strain_rate = float(filename_split[1])\n",
        "  title = 'Test Files at Temperature of {}, Strain Rate {}'.format(temperature,strain_rate)\n",
        "\n",
        "  plt.figure()\n",
        "  plt.plot(data550_unscale[:,4],data550_unscale[:,7], color='b')\n",
        "  plt.plot(X[:,4],X[:,7], color='r')\n",
        "  plt.title(title)\n",
        "  plt.xlabel('strain')\n",
        "  plt.ylabel('stress')"
      ],
      "execution_count": 18,
      "outputs": [
        {
          "output_type": "stream",
          "text": [
            "-----------------------------\n",
            "/content/mnt/My Drive/Colab Notebooks/ME592/ME592_HW3/DM/550C/550_.0001.xls\n",
            "-----------------------------\n"
          ],
          "name": "stdout"
        },
        {
          "output_type": "stream",
          "text": [
            "/usr/local/lib/python3.7/dist-packages/pandas/core/frame.py:4174: SettingWithCopyWarning: \n",
            "A value is trying to be set on a copy of a slice from a DataFrame\n",
            "\n",
            "See the caveats in the documentation: https://pandas.pydata.org/pandas-docs/stable/user_guide/indexing.html#returning-a-view-versus-a-copy\n",
            "  errors=errors,\n"
          ],
          "name": "stderr"
        },
        {
          "output_type": "stream",
          "text": [
            "(12203, 8)\n",
            "(12203, 8)\n",
            "-----------------------------\n",
            "/content/mnt/My Drive/Colab Notebooks/ME592/ME592_HW3/DM/550C/550_.001.xls\n",
            "-----------------------------\n"
          ],
          "name": "stdout"
        },
        {
          "output_type": "stream",
          "text": [
            "/usr/local/lib/python3.7/dist-packages/pandas/core/frame.py:4174: SettingWithCopyWarning: \n",
            "A value is trying to be set on a copy of a slice from a DataFrame\n",
            "\n",
            "See the caveats in the documentation: https://pandas.pydata.org/pandas-docs/stable/user_guide/indexing.html#returning-a-view-versus-a-copy\n",
            "  errors=errors,\n"
          ],
          "name": "stderr"
        },
        {
          "output_type": "stream",
          "text": [
            "(1851, 8)\n",
            "(1851, 8)\n",
            "-----------------------------\n",
            "/content/mnt/My Drive/Colab Notebooks/ME592/ME592_HW3/DM/550C/550_.01.xls\n",
            "-----------------------------\n"
          ],
          "name": "stdout"
        },
        {
          "output_type": "stream",
          "text": [
            "/usr/local/lib/python3.7/dist-packages/pandas/core/frame.py:4174: SettingWithCopyWarning: \n",
            "A value is trying to be set on a copy of a slice from a DataFrame\n",
            "\n",
            "See the caveats in the documentation: https://pandas.pydata.org/pandas-docs/stable/user_guide/indexing.html#returning-a-view-versus-a-copy\n",
            "  errors=errors,\n"
          ],
          "name": "stderr"
        },
        {
          "output_type": "stream",
          "text": [
            "(2233, 8)\n",
            "(2233, 8)\n"
          ],
          "name": "stdout"
        },
        {
          "output_type": "display_data",
          "data": {
            "image/png": "[encoded data removed]",
            "text/plain": [
              "<Figure size 432x288 with 1 Axes>"
            ]
          },
          "metadata": {
            "tags": [],
            "needs_background": "light"
          }
        },
        {
          "output_type": "display_data",
          "data": {
            "image/png": "[encoded data removed]",
            "text/plain": [
              "<Figure size 432x288 with 1 Axes>"
            ]
          },
          "metadata": {
            "tags": [],
            "needs_background": "light"
          }
        },
        {
          "output_type": "display_data",
          "data": {
            "image/png": "[encoded data removed]",
            "text/plain": [
              "<Figure size 432x288 with 1 Axes>"
            ]
          },
          "metadata": {
            "tags": [],
            "needs_background": "light"
          }
        }
      ]
    },
    {
      "cell_type": "markdown",
      "metadata": {
        "id": "_JGe2-SAfcT0"
      },
      "source": [
        "**Deployment**"
      ]
    },
    {
      "cell_type": "code",
      "metadata": {
        "colab": {
          "base_uri": "https://localhost:8080/",
          "height": 560
        },
        "id": "dv56grNAb2JD",
        "outputId": "4976ea25-9d46-450f-f7c4-6629eb90f185"
      },
      "source": [
        "#%%\n",
        "t = np.arange(0,0.5,0.001)\n",
        "x = t**3 - 2*t**2 + t\n",
        "strain = 3*t**2 - 4*t + 1\n",
        "strainrate = 6*t - 4\n",
        "\n",
        "# number of strain columns that we want \n",
        "numCol = 5\n",
        "\n",
        "deployment_temperature = 100 #C\n",
        "temp = np.full(len(strain)-numCol-1,deployment_temperature)\n",
        "dummy = np.zeros(len(strain))\n",
        "\n",
        "# start the strain array so that we can append later\n",
        "strain_rearrange = np.zeros((1,numCol))\n",
        "\n",
        "# rearrange the strain so that each row is numCol number of strain values\n",
        "# each column iterates one strain value\n",
        "for i in range(0,len(strain)-numCol-1):\n",
        "    row = np.array(strain[i:i+numCol])\n",
        "    strain_rearrange = np.vstack((strain_rearrange,row))\n",
        "    \n",
        "strain_rearrange_df = pd.DataFrame(strain_rearrange[1:,:])  \n",
        "stress_rearrange = combined['stress'][numCol+1:]\n",
        "stress_rearrange.reset_index(drop=True, inplace=True)\n",
        "\n",
        "tempstrain = pd.DataFrame({'temperature': temp,'strainrate': filename_split[1]},index=list(range(len(strain_rearrange)-1)))\n",
        "combined_strain = pd.concat([strain_rearrange_df,tempstrain,stress_rearrange], axis=1)\n",
        "combined_strain_tensor = torch.tensor(combined_strain.to_numpy(dtype=float))\n",
        "\n",
        "deploy_strainrearranged_view = combined_strain_tensor.numpy()\n",
        "deploy_strainrearranged_df = pd.DataFrame(deploy_strainrearranged_view)\n",
        "deploy_strainrearranged_df.columns = ['strain1','strain2','strain3','strain4','strain5','temperature','strain_rate', 'true_stress']\n",
        "\n",
        "X = deploy_strainrearranged_df.values\n",
        "min_max_scaler = preprocessing.MinMaxScaler()\n",
        "X_scaled = min_max_scaler.fit_transform(X)\n",
        "X_unscale = min_max_scaler.inverse_transform(X_scaled)\n",
        "deploy_validate = pd.DataFrame(X_scaled)\n",
        "deploy_validate.columns = ['strain1','strain2','strain3','strain4','strain5','temperature','strain_rate', 'true_stress']\n",
        "\n",
        "deploy_validate_input = deploy_validate.iloc[:,[0,1,2,3,4,5,6]].to_numpy()\n",
        "deploy_validate_output = deploy_validate.iloc[:,7].to_numpy()\n",
        "\n",
        "deploy_validate_input = torch.tensor(deploy_validate_input).float()\n",
        "deploy_validate_output = torch.tensor(deploy_validate_output).float()\n",
        "\n",
        "deploy_predY = np.empty(8)\n",
        "\n",
        "for i in range(len(deploy_validate_input)):\n",
        "  deploy_pred_validate = lstm_model(deploy_validate_input[i])\n",
        "  deploy_scaled = np.concatenate((deploy_validate_input[i],deploy_pred_validate.detach().numpy()))\n",
        "  deploy_predY = np.vstack((deploy_predY,deploy_scaled))\n",
        "\n",
        "deploy_predY = deploy_predY[1:,:]\n",
        "deploy_unscale = min_max_scaler.inverse_transform(deploy_predY)\n",
        "\n",
        "plt.figure(0)\n",
        "plt.plot(t, x)\n",
        "plt.plot(t, strain)\n",
        "plt.plot(t, strainrate)\n",
        "plt.legend(['displacement','strain','strainrate'])\n",
        "\n",
        "plt.figure()\n",
        "plt.plot(deploy_unscale[:,4],deploy_unscale[:,7], color='b')\n",
        "plt.plot(X[:,4],X[:,7], color='r')\n",
        "plt.title(title)\n",
        "plt.xlabel('strain')\n",
        "plt.ylabel('stress')\n",
        "plt.title('Deployment Prediction')"
      ],
      "execution_count": 19,
      "outputs": [
        {
          "output_type": "execute_result",
          "data": {
            "text/plain": [
              "Text(0.5, 1.0, 'Deployment Prediction')"
            ]
          },
          "metadata": {
            "tags": []
          },
          "execution_count": 19
        },
        {
          "output_type": "display_data",
          "data": {
            "image/png": "[encoded data removed]",
            "text/plain": [
              "<Figure size 432x288 with 1 Axes>"
            ]
          },
          "metadata": {
            "tags": [],
            "needs_background": "light"
          }
        },
        {
          "output_type": "display_data",
          "data": {
            "image/png": "[encoded data removed]",
            "text/plain": [
              "<Figure size 432x288 with 1 Axes>"
            ]
          },
          "metadata": {
            "tags": [],
            "needs_background": "light"
          }
        }
      ]
    }
  ]
}